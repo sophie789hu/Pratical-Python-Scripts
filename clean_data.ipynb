{
 "cells": [
  {
   "cell_type": "code",
   "execution_count": null,
   "metadata": {},
   "outputs": [],
   "source": [
    "import pandas as pd\n",
    "import numpy as np\n",
    "from datetime import datetime\n",
    "import re"
   ]
  },
  {
   "cell_type": "markdown",
   "metadata": {},
   "source": [
    "This document gathers random Regex codes to play with words and text."
   ]
  },
  {
   "cell_type": "code",
   "execution_count": null,
   "metadata": {},
   "outputs": [],
   "source": [
    "#Import the .csv file\n",
    "df_webText = pd.read_csv(\"webtext.csv\")"
   ]
  },
  {
   "cell_type": "markdown",
   "metadata": {},
   "source": [
    "FOR ONE COLUMN (pd.Series) IN A DATAFRAME\n",
    "Replace non-desired characters by nothing\n",
    "In this case, we can replace the nothing \"\" by something specific, if needed\n",
    "We can also modify permanently by adding .replace(... , inplace=True)"
   ]
  },
  {
   "cell_type": "code",
   "execution_count": null,
   "metadata": {},
   "outputs": [],
   "source": [
    "#remove everything that is not a letter in lower case\n",
    "keepLowCase = re.compile(\"[^a-z]\")\n",
    "df_webText[\"text\"].str.replace(keepLowCase, \"\", regex=True)"
   ]
  },
  {
   "cell_type": "code",
   "execution_count": null,
   "metadata": {},
   "outputs": [],
   "source": [
    "#remove everything that is not a letter in upper case\n",
    "keepUpperCase = re.compile(\"[^A-Z]\")\n",
    "df_webText[\"text\"].str.replace(keepUpperCase, \"\", regex=True)"
   ]
  },
  {
   "cell_type": "code",
   "execution_count": null,
   "metadata": {},
   "outputs": [],
   "source": [
    "#remove everything that is not a letter, number and space\n",
    "keepLowCasendSpace = re.compile(\"[^a-zA-Z0-9_\\s]\")\n",
    "df_webText[\"text\"].str.replace(keepLowCasendSpace, \"\", regex=True)"
   ]
  },
  {
   "cell_type": "code",
   "execution_count": null,
   "metadata": {},
   "outputs": [],
   "source": [
    "#remove everything that is not a letter in lower and space\n",
    "keepLetter = re.compile(\"[^a-zA-Z_\\s]\")\n",
    "df_webText[\"text\"].str.replace(keepLetter, \"\", regex=True)"
   ]
  },
  {
   "cell_type": "code",
   "execution_count": null,
   "metadata": {},
   "outputs": [],
   "source": [
    "#remove the word \"strawberry\" (upper or lower case)   \n",
    "keepStrawberry = re.compile(\"[^(?i)strawberry]\")\n",
    "df_webText[\"text\"].str.replace(keepStrawberry, \"\", regex=True)"
   ]
  },
  {
   "cell_type": "code",
   "execution_count": null,
   "metadata": {},
   "outputs": [],
   "source": [
    "#remove everything that is inside parentheses  \n",
    "removeParathense = re.compile(\"\\((.*?)\\)\")\n",
    "df_webText[\"text\"].str.replace(removeParathense, \"\", regex=True)"
   ]
  },
  {
   "cell_type": "code",
   "execution_count": null,
   "metadata": {},
   "outputs": [],
   "source": [
    "#reverse the sentence\n",
    "df_webText[\"text\"].apply(lambda text : text[::-1] if pd.isnull(text) is False else None)"
   ]
  },
  {
   "cell_type": "code",
   "execution_count": null,
   "metadata": {},
   "outputs": [],
   "source": [
    "#lower all words\n",
    "df_webText[\"text\"].str.lower()"
   ]
  },
  {
   "cell_type": "code",
   "execution_count": null,
   "metadata": {},
   "outputs": [],
   "source": [
    "#upper all words\n",
    "df_webText[\"text\"].str.upper()"
   ]
  },
  {
   "cell_type": "code",
   "execution_count": null,
   "metadata": {},
   "outputs": [],
   "source": [
    "#remove double spaces\n",
    "df_webText[\"text\"].str.replace(\"  \", \"\")"
   ]
  },
  {
   "cell_type": "markdown",
   "metadata": {},
   "source": [
    "FOR THE ENTIRE DATAFRAME\n",
    "Example for one case\n",
    "We can also modify permanently assigning the dataframe to the modifcation (df_webText = ...)"
   ]
  },
  {
   "cell_type": "code",
   "execution_count": null,
   "metadata": {},
   "outputs": [],
   "source": [
    "def remove(text):\n",
    "    try:\n",
    "        keepLowCasendSpace = re.compile(\"[^a-zA-Z0-9_\\s]\")\n",
    "        text = re.sub(keepLowCasendSpace, \"\", text)\n",
    "    except:\n",
    "        None\n",
    "    return text"
   ]
  },
  {
   "cell_type": "code",
   "execution_count": null,
   "metadata": {},
   "outputs": [],
   "source": [
    "df_webText.applymap(remove)"
   ]
  }
 ],
 "metadata": {
  "kernelspec": {
   "display_name": "Python 3",
   "language": "python",
   "name": "python3"
  },
  "language_info": {
   "codemirror_mode": {
    "name": "ipython",
    "version": 3
   },
   "file_extension": ".py",
   "mimetype": "text/x-python",
   "name": "python",
   "nbconvert_exporter": "python",
   "pygments_lexer": "ipython3",
   "version": "3.7.3"
  }
 },
 "nbformat": 4,
 "nbformat_minor": 2
}
